{
 "cells": [
  {
   "cell_type": "markdown",
   "id": "ec7e30a5",
   "metadata": {},
   "source": [
    "26/08/2025"
   ]
  },
  {
   "cell_type": "markdown",
   "id": "1d6cc13d",
   "metadata": {},
   "source": [
    "Given a string, write program to print only alphabets in the given string"
   ]
  },
  {
   "cell_type": "code",
   "execution_count": 1,
   "id": "74827d04",
   "metadata": {},
   "outputs": [
    {
     "name": "stdout",
     "output_type": "stream",
     "text": [
      "OUTPUT:  HEll\n"
     ]
    }
   ],
   "source": [
    "String = input(\"Enter a String: \")\n",
    "result = \"\"\n",
    "for i in String:\n",
    "    if i.isalpha():\n",
    "        result += i\n",
    "print(\"OUTPUT: \",result)"
   ]
  },
  {
   "cell_type": "markdown",
   "id": "9021c812",
   "metadata": {},
   "source": [
    "Given string write program that prints all the uppercase letters of the string"
   ]
  },
  {
   "cell_type": "code",
   "execution_count": 2,
   "id": "d41d71ff",
   "metadata": {},
   "outputs": [
    {
     "name": "stdout",
     "output_type": "stream",
     "text": [
      "OUTPUT:  VR\n"
     ]
    }
   ],
   "source": [
    "String = input(\"Enter a String: \")\n",
    "result = \"\"\n",
    "for i in String:\n",
    "    if i.isupper():\n",
    "        result += i\n",
    "print(\"OUTPUT: \",result)"
   ]
  },
  {
   "cell_type": "markdown",
   "id": "db55b1e5",
   "metadata": {},
   "source": [
    "Simple Calculator"
   ]
  },
  {
   "cell_type": "code",
   "execution_count": 5,
   "id": "d59331ec",
   "metadata": {},
   "outputs": [
    {
     "name": "stdout",
     "output_type": "stream",
     "text": [
      "3\n"
     ]
    }
   ],
   "source": [
    "a = int(input(\"Enter first number: \"))\n",
    "b = int(input(\"Enter second number: \"))\n",
    "op = input(\"Choose operation (+, -, *, /): \")\n",
    "\n",
    "if op == \"+\":\n",
    "    print(a + b)\n",
    "elif op == \"-\":\n",
    "    print(a - b)\n",
    "elif op == \"*\":\n",
    "    print(a * b)\n",
    "elif op == \"/\":\n",
    "    print(a / b)\n",
    "else:\n",
    "    print(\"Invalid operation\")"
   ]
  }
 ],
 "metadata": {
  "kernelspec": {
   "display_name": "Python 3",
   "language": "python",
   "name": "python3"
  },
  "language_info": {
   "codemirror_mode": {
    "name": "ipython",
    "version": 3
   },
   "file_extension": ".py",
   "mimetype": "text/x-python",
   "name": "python",
   "nbconvert_exporter": "python",
   "pygments_lexer": "ipython3",
   "version": "3.13.3"
  }
 },
 "nbformat": 4,
 "nbformat_minor": 5
}
