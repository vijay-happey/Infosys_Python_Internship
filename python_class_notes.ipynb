{
 "cells": [
  {
   "cell_type": "markdown",
   "id": "23098e83",
   "metadata": {},
   "source": [
    "# Python Class Notes"
   ]
  },
  {
   "cell_type": "markdown",
   "id": "3cf6d466",
   "metadata": {},
   "source": [
    "## 1. Addition of Two Numbers"
   ]
  },
  {
   "cell_type": "code",
   "execution_count": null,
   "id": "21f089f3",
   "metadata": {},
   "outputs": [],
   "source": [
    "\n",
    "a = int(input(\"Enter a number1: \"))\n",
    "b = int(input(\"Enter a number2: \"))\n",
    "addition = a + b\n",
    "print(\"The sum of\", a, \"and\", b, \"is:\", addition)\n"
   ]
  },
  {
   "cell_type": "markdown",
   "id": "9cdbf49e",
   "metadata": {},
   "source": [
    "## 2. Check if Number is Even or Odd"
   ]
  },
  {
   "cell_type": "code",
   "execution_count": null,
   "id": "d4ff4c90",
   "metadata": {},
   "outputs": [],
   "source": [
    "\n",
    "no = int(input(\"Enter a number: \"))\n",
    "\n",
    "if no % 2 == 0:\n",
    "    print(\"The number is even\")\n",
    "else:\n",
    "    print(\"The number is odd\")\n"
   ]
  },
  {
   "cell_type": "markdown",
   "id": "0e1f862c",
   "metadata": {},
   "source": [
    "## 3. Relational and Logical Operators"
   ]
  },
  {
   "cell_type": "code",
   "execution_count": null,
   "id": "1a059072",
   "metadata": {},
   "outputs": [],
   "source": [
    "\n",
    "# Relational Operators\n",
    "print(2 < 5)   # True\n",
    "print(1 < 3)   # True\n",
    "print(\"ABC\" == \"abc\")   # False\n",
    "\n",
    "# Logical Operators\n",
    "print(2 < 5 and 1 < 3)  # True\n",
    "print(2 < 5 or 1 > 3)   # True\n",
    "print(not(2 < 5))       # False\n"
   ]
  },
  {
   "cell_type": "markdown",
   "id": "7382e5e3",
   "metadata": {},
   "source": [
    "## 4. Comparison Operators"
   ]
  },
  {
   "cell_type": "code",
   "execution_count": null,
   "id": "c0b4cf6d",
   "metadata": {},
   "outputs": [],
   "source": [
    "\n",
    "x = 5\n",
    "y = 10\n",
    "print(x == y)  # False\n",
    "print(x != y)  # True\n",
    "print(x > y)   # False\n",
    "print(x < y)   # True\n",
    "print(x >= y)  # False\n",
    "print(x <= y)  # True\n"
   ]
  },
  {
   "cell_type": "markdown",
   "id": "925227bc",
   "metadata": {},
   "source": [
    "## 5. Conditional Statements"
   ]
  },
  {
   "cell_type": "code",
   "execution_count": null,
   "id": "8cbc46b2",
   "metadata": {},
   "outputs": [],
   "source": [
    "\n",
    "a = 33\n",
    "b = 200\n",
    "if b > a:\n",
    "    print(\"b is greater than a\")\n",
    "else:\n",
    "    print(\"a is greater than b\")\n"
   ]
  },
  {
   "cell_type": "markdown",
   "id": "c64533c2",
   "metadata": {},
   "source": [
    "## 6. Check Divisibility by 3 and 5"
   ]
  },
  {
   "cell_type": "code",
   "execution_count": null,
   "id": "6671ba1a",
   "metadata": {},
   "outputs": [],
   "source": [
    "\n",
    "a = int(input(\"Enter a number: \"))\n",
    "\n",
    "if a % 5 == 0 and a % 3 == 0:\n",
    "    print(\"Divisible by 3 & 5\")\n",
    "else:\n",
    "    print(\"Not Divisible by 3 & 5\")\n"
   ]
  },
  {
   "cell_type": "markdown",
   "id": "79485b1b",
   "metadata": {},
   "source": [
    "## 7. Grading System"
   ]
  },
  {
   "cell_type": "code",
   "execution_count": null,
   "id": "cdc0e676",
   "metadata": {},
   "outputs": [],
   "source": [
    "\n",
    "score = int(input(\"Enter score: \"))\n",
    "if score < 35:\n",
    "    print(\"Poor student\")\n",
    "elif score >= 35 and score < 70:\n",
    "    print(\"Average student\")\n",
    "elif score >= 70 and score <= 100:\n",
    "    print(\"Good student\")\n",
    "else:\n",
    "    print(\"Invalid score\")\n"
   ]
  },
  {
   "cell_type": "markdown",
   "id": "ca2a3d34",
   "metadata": {},
   "source": [
    "## 8. Factorial of a Number"
   ]
  },
  {
   "cell_type": "code",
   "execution_count": null,
   "id": "b223acf5",
   "metadata": {},
   "outputs": [],
   "source": [
    "\n",
    "n = int(input(\"Enter num: \"))\n",
    "\n",
    "fact = 1\n",
    "for i in range(1, n+1):\n",
    "    fact *= i\n",
    "\n",
    "print(\"Factorial of\", n, \"is:\", fact)\n"
   ]
  },
  {
   "cell_type": "markdown",
   "id": "dd792284",
   "metadata": {},
   "source": [
    "## 9. While Loop Example"
   ]
  },
  {
   "cell_type": "code",
   "execution_count": null,
   "id": "66b788ba",
   "metadata": {},
   "outputs": [],
   "source": [
    "\n",
    "a = int(input(\"Enter number: \"))\n",
    "counter = 0\n",
    "while counter < 3:\n",
    "    a += 1\n",
    "    print(a)\n",
    "    counter += 1\n"
   ]
  },
  {
   "cell_type": "markdown",
   "id": "8710e0af",
   "metadata": {},
   "source": [
    "## 10. For Loop with Continue and Pass"
   ]
  },
  {
   "cell_type": "code",
   "execution_count": null,
   "id": "c2a1dae0",
   "metadata": {},
   "outputs": [],
   "source": [
    "\n",
    "for i in range(5):\n",
    "    if i == 2:\n",
    "        continue   # skip when i == 2\n",
    "    if i == 4:\n",
    "        pass       # placeholder\n",
    "    print(i)\n"
   ]
  },
  {
   "cell_type": "markdown",
   "id": "757c0644",
   "metadata": {},
   "source": [
    "## 11. String Operations"
   ]
  },
  {
   "cell_type": "code",
   "execution_count": null,
   "id": "fdbc1803",
   "metadata": {},
   "outputs": [],
   "source": [
    "\n",
    "print(\"abc\" + \"xyz\")      # Concatenation\n",
    "print(\"abc\" * 3)          # Repetition\n",
    "user = input(\"Enter name: \")\n",
    "print(\"Length of name:\", len(user))\n"
   ]
  },
  {
   "cell_type": "markdown",
   "id": "c1a2f2e0",
   "metadata": {},
   "source": [
    "## 12. String Methods"
   ]
  },
  {
   "cell_type": "code",
   "execution_count": null,
   "id": "3bc517fd",
   "metadata": {},
   "outputs": [],
   "source": [
    "\n",
    "print(\"Rahul\".isalpha())       # True\n",
    "print(\"Rahul123\".isalnum())    # True\n",
    "print(\"ram2355@\".isalnum())    # False\n",
    "print(\"HELLO\".isupper())       # True\n",
    "print(\"the planet is big\".capitalize())\n"
   ]
  },
  {
   "cell_type": "markdown",
   "id": "7b55242f",
   "metadata": {},
   "source": [
    "## 13. Count Vowels in a String"
   ]
  },
  {
   "cell_type": "code",
   "execution_count": null,
   "id": "61b494d4",
   "metadata": {},
   "outputs": [],
   "source": [
    "\n",
    "s = input(\"Enter a string: \")\n",
    "\n",
    "count = 0\n",
    "vowels = \"aeiouAEIOU\"\n",
    "\n",
    "for ch in s:\n",
    "    if ch in vowels:\n",
    "        count += 1\n",
    "\n",
    "print(\"Number of vowels:\", count)\n"
   ]
  },
  {
   "cell_type": "markdown",
   "id": "a98a5cfb",
   "metadata": {},
   "source": [
    "## 14. Perimeter of Triangle"
   ]
  },
  {
   "cell_type": "code",
   "execution_count": null,
   "id": "6a98a369",
   "metadata": {},
   "outputs": [],
   "source": [
    "\n",
    "a = int(input(\"Enter the length of side a: \"))\n",
    "b = int(input(\"Enter the length of side b: \"))\n",
    "c = int(input(\"Enter the length of side c: \"))\n",
    "perimeter = a + b + c\n",
    "\n",
    "print(\"The perimeter of the triangle is:\", perimeter)\n"
   ]
  },
  {
   "cell_type": "markdown",
   "id": "c5727ab4",
   "metadata": {},
   "source": [
    "## 15. Pattern Printing - Square Numbers"
   ]
  },
  {
   "cell_type": "code",
   "execution_count": null,
   "id": "3f4aa852",
   "metadata": {},
   "outputs": [],
   "source": [
    "\n",
    "n = int(input(\"Enter a number: \"))\n",
    "start = 1\n",
    "for i in range(n):\n",
    "    for j in range(n):\n",
    "        print(start, end=\" \")\n",
    "        start += 1\n",
    "    print()\n"
   ]
  },
  {
   "cell_type": "markdown",
   "id": "4ec9f100",
   "metadata": {},
   "source": [
    "## 16. Pattern Printing - Triangles"
   ]
  },
  {
   "cell_type": "code",
   "execution_count": null,
   "id": "7fa19fc1",
   "metadata": {},
   "outputs": [],
   "source": [
    "\n",
    "n = int(input(\"Enter n: \"))\n",
    "\n",
    "num = 1\n",
    "\n",
    "print(\"First Triangle:\")\n",
    "for i in range(1, n+1):\n",
    "    for j in range(i):\n",
    "        print(num, end=\" \")\n",
    "        num += 1\n",
    "    print()\n",
    "\n",
    "print(\"Second Triangle:\")\n",
    "for i in range(n, 0, -1):\n",
    "    for j in range(i):\n",
    "        print(num, end=\" \")\n",
    "        num += 1\n",
    "    print()\n"
   ]
  },
  {
   "cell_type": "markdown",
   "id": "98d562be",
   "metadata": {},
   "source": [
    "## 17. Function Example - Square of a Number"
   ]
  },
  {
   "cell_type": "code",
   "execution_count": 21,
   "id": "65406197",
   "metadata": {},
   "outputs": [
    {
     "name": "stdout",
     "output_type": "stream",
     "text": [
      "The square of the number is: 9\n"
     ]
    }
   ],
   "source": [
    "\n",
    "n = int(input(\"Enter a number: \"))\n",
    "\n",
    "def square(n):\n",
    "    return n * n\n",
    "\n",
    "print(\"The square of the number is:\", square(n))\n"
   ]
  },
  {
   "cell_type": "markdown",
   "id": "30b0b5c6",
   "metadata": {},
   "source": [
    "## 18. Example - Cricket Win or Lose"
   ]
  },
  {
   "cell_type": "code",
   "execution_count": 3,
   "id": "f81edcd2",
   "metadata": {},
   "outputs": [
    {
     "name": "stdout",
     "output_type": "stream",
     "text": [
      "Better luck next time\n"
     ]
    }
   ],
   "source": [
    "\n",
    "india = input(\"Enter your win or lose: \")\n",
    "\n",
    "if india == \"win\":\n",
    "    print(\"Trophy is ours\")\n",
    "else:\n",
    "    print(\"Better luck next time\")\n"
   ]
  },
  {
   "cell_type": "markdown",
   "id": "a17d322e",
   "metadata": {},
   "source": [
    "## Ascii Values of the characters,special symbols and digits"
   ]
  },
  {
   "cell_type": "code",
   "execution_count": 4,
   "id": "9274fe27",
   "metadata": {},
   "outputs": [
    {
     "name": "stdout",
     "output_type": "stream",
     "text": [
      "65\n"
     ]
    }
   ],
   "source": [
    "value = ord(\"A\")\n",
    "print(value)"
   ]
  },
  {
   "cell_type": "code",
   "execution_count": 5,
   "id": "319916da",
   "metadata": {},
   "outputs": [
    {
     "name": "stdout",
     "output_type": "stream",
     "text": [
      "K\n"
     ]
    }
   ],
   "source": [
    "char = chr(75)\n",
    "print(char)"
   ]
  },
  {
   "cell_type": "code",
   "execution_count": null,
   "id": "40827be1",
   "metadata": {},
   "outputs": [],
   "source": [
    "#48-57 -> Number Digits\n",
    "#65-90 -> Caps\n",
    "#97-122 -> Small"
   ]
  },
  {
   "cell_type": "code",
   "execution_count": 13,
   "id": "bda12d30",
   "metadata": {},
   "outputs": [
    {
     "name": "stdout",
     "output_type": "stream",
     "text": [
      "0\n",
      "1\n",
      "2\n",
      "3\n",
      "4\n",
      "5\n",
      "6\n",
      "7\n",
      "8\n",
      "9\n"
     ]
    }
   ],
   "source": [
    "for value in range(48,58):\n",
    "    print(chr(value))"
   ]
  },
  {
   "cell_type": "code",
   "execution_count": 6,
   "id": "1595d683",
   "metadata": {},
   "outputs": [
    {
     "name": "stdout",
     "output_type": "stream",
     "text": [
      "A\n",
      "B\n",
      "C\n",
      "D\n",
      "E\n",
      "F\n",
      "G\n",
      "H\n",
      "I\n",
      "J\n",
      "K\n",
      "L\n",
      "M\n",
      "N\n",
      "O\n",
      "P\n",
      "Q\n",
      "R\n",
      "S\n",
      "T\n",
      "U\n",
      "V\n",
      "W\n",
      "X\n",
      "Y\n",
      "Z\n"
     ]
    }
   ],
   "source": [
    "for value in range(65, 91):\n",
    "    print(chr(value))"
   ]
  },
  {
   "cell_type": "code",
   "execution_count": 8,
   "id": "20a1277d",
   "metadata": {},
   "outputs": [
    {
     "name": "stdout",
     "output_type": "stream",
     "text": [
      "True\n"
     ]
    }
   ],
   "source": [
    "print(\"A\"<\"B\")"
   ]
  },
  {
   "cell_type": "code",
   "execution_count": 7,
   "id": "a1085aea",
   "metadata": {},
   "outputs": [
    {
     "name": "stdout",
     "output_type": "stream",
     "text": [
      "False\n"
     ]
    }
   ],
   "source": [
    "print(\"A\">\"B\")"
   ]
  },
  {
   "cell_type": "markdown",
   "id": "add86165",
   "metadata": {},
   "source": [
    "## Roundingoff"
   ]
  },
  {
   "cell_type": "code",
   "execution_count": 25,
   "id": "6d02a8ee",
   "metadata": {},
   "outputs": [
    {
     "name": "stdout",
     "output_type": "stream",
     "text": [
      "8\n",
      "7\n",
      "7.5\n",
      "7.55\n"
     ]
    }
   ],
   "source": [
    "a= round(7.55)  \n",
    "print(a)\n",
    "\n",
    "a= round(7.4)  \n",
    "print(a)\n",
    "\n",
    "a= round(7.55,1)\n",
    "print(a)\n",
    "\n",
    "a= round(7.55,2)\n",
    "print(a)"
   ]
  },
  {
   "cell_type": "markdown",
   "id": "47f6c967",
   "metadata": {},
   "source": [
    "## Data Structures"
   ]
  },
  {
   "cell_type": "markdown",
   "id": "18f9e19e",
   "metadata": {},
   "source": [
    "### List"
   ]
  },
  {
   "cell_type": "code",
   "execution_count": null,
   "id": "84c04fe2",
   "metadata": {},
   "outputs": [
    {
     "name": "stdout",
     "output_type": "stream",
     "text": [
      "<class 'list'>\n",
      "[5, 'True', 10.11, 16]\n"
     ]
    }
   ],
   "source": [
    "a=16\n",
    "list_a=[5,\"True\",10.11,a]\n",
    "print(type(list_a))\n",
    "print(list_a)\n"
   ]
  },
  {
   "cell_type": "code",
   "execution_count": 28,
   "id": "173a1ed4",
   "metadata": {},
   "outputs": [
    {
     "name": "stdout",
     "output_type": "stream",
     "text": [
      "<class 'list'>\n",
      "[False, [5, 'True', 10.11, 44]]\n"
     ]
    }
   ],
   "source": [
    "list_a=[5,\"True\",10.11,44]\n",
    "list_b=[False,list_a]\n",
    "print(type(list_b))\n",
    "print(list_b)\n"
   ]
  },
  {
   "cell_type": "code",
   "execution_count": 44,
   "id": "9704a202",
   "metadata": {},
   "outputs": [
    {
     "name": "stdout",
     "output_type": "stream",
     "text": [
      "10.11\n",
      "75\n",
      "[10.11, 75]\n"
     ]
    }
   ],
   "source": [
    "list_a=[5,\"True\",10.11,75]\n",
    "print(list_a[2])\n",
    "print(list_a[3])\n",
    "print(list_a[2:4])"
   ]
  },
  {
   "cell_type": "code",
   "execution_count": 34,
   "id": "512c5e02",
   "metadata": {},
   "outputs": [
    {
     "name": "stdout",
     "output_type": "stream",
     "text": [
      "5\n",
      "<class 'int'>\n",
      "True\n",
      "<class 'str'>\n",
      "False\n",
      "<class 'bool'>\n",
      "10.11\n",
      "<class 'float'>\n",
      "75\n",
      "<class 'int'>\n"
     ]
    }
   ],
   "source": [
    "list_a=[5,\"True\",False,10.11,75]\n",
    "for i in list_a:\n",
    "    print(i)\n",
    "    print(type(i))"
   ]
  },
  {
   "cell_type": "code",
   "execution_count": 35,
   "id": "5939885e",
   "metadata": {},
   "outputs": [
    {
     "name": "stdout",
     "output_type": "stream",
     "text": [
      "[1, 2, 3, 'a', 'b', 'c']\n"
     ]
    }
   ],
   "source": [
    "list_a=[1,2,3]\n",
    "list_b=[\"a\",\"b\",\"c\"]\n",
    "list_c=list_a+list_b\n",
    "print(list_c)"
   ]
  },
  {
   "cell_type": "code",
   "execution_count": 37,
   "id": "ea139e05",
   "metadata": {},
   "outputs": [
    {
     "name": "stdout",
     "output_type": "stream",
     "text": [
      "[1, 2, 3, 1, 2, 3, 1, 2, 3]\n"
     ]
    }
   ],
   "source": [
    "list_a=[1,2,3]\n",
    "list_b=list_a*3\n",
    "print(list_b)"
   ]
  },
  {
   "cell_type": "code",
   "execution_count": 54,
   "id": "0084bfa3",
   "metadata": {},
   "outputs": [
    {
     "name": "stdout",
     "output_type": "stream",
     "text": [
      "[1, 2, 4]\n"
     ]
    }
   ],
   "source": [
    "list_a=[1,2,3]\n",
    "list_a[2]=4\n",
    "print(list_a)"
   ]
  },
  {
   "cell_type": "code",
   "execution_count": 57,
   "id": "cb67ee86",
   "metadata": {},
   "outputs": [
    {
     "name": "stdout",
     "output_type": "stream",
     "text": [
      "['H', 'e', 'l', 'l', 'o', ',', 'W', 'o', 'r', 'l', 'd', '!']\n"
     ]
    }
   ],
   "source": [
    "import builtins\n",
    "\n",
    "Variable = \"Hello,World!\"\n",
    "list_d = builtins.list(Variable)\n",
    "print(list_d)"
   ]
  },
  {
   "cell_type": "code",
   "execution_count": null,
   "id": "50a8e9a1",
   "metadata": {},
   "outputs": [],
   "source": []
  }
 ],
 "metadata": {
  "kernelspec": {
   "display_name": "base",
   "language": "python",
   "name": "python3"
  },
  "language_info": {
   "codemirror_mode": {
    "name": "ipython",
    "version": 3
   },
   "file_extension": ".py",
   "mimetype": "text/x-python",
   "name": "python",
   "nbconvert_exporter": "python",
   "pygments_lexer": "ipython3",
   "version": "3.13.5"
  }
 },
 "nbformat": 4,
 "nbformat_minor": 5
}
