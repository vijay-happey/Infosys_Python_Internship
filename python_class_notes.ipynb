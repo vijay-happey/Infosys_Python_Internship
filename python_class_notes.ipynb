{
 "cells": [
  {
   "cell_type": "markdown",
   "id": "23098e83",
   "metadata": {},
   "source": [
    "# Python Class Notes"
   ]
  },
  {
   "cell_type": "markdown",
   "id": "3cf6d466",
   "metadata": {},
   "source": [
    "## 1. Addition of Two Numbers"
   ]
  },
  {
   "cell_type": "code",
   "execution_count": null,
   "id": "21f089f3",
   "metadata": {},
   "outputs": [],
   "source": [
    "\n",
    "a = int(input(\"Enter a number1: \"))\n",
    "b = int(input(\"Enter a number2: \"))\n",
    "addition = a + b\n",
    "print(\"The sum of\", a, \"and\", b, \"is:\", addition)\n"
   ]
  },
  {
   "cell_type": "markdown",
   "id": "9cdbf49e",
   "metadata": {},
   "source": [
    "## 2. Check if Number is Even or Odd"
   ]
  },
  {
   "cell_type": "code",
   "execution_count": null,
   "id": "d4ff4c90",
   "metadata": {},
   "outputs": [],
   "source": [
    "\n",
    "no = int(input(\"Enter a number: \"))\n",
    "\n",
    "if no % 2 == 0:\n",
    "    print(\"The number is even\")\n",
    "else:\n",
    "    print(\"The number is odd\")\n"
   ]
  },
  {
   "cell_type": "markdown",
   "id": "0e1f862c",
   "metadata": {},
   "source": [
    "## 3. Relational and Logical Operators"
   ]
  },
  {
   "cell_type": "code",
   "execution_count": null,
   "id": "1a059072",
   "metadata": {},
   "outputs": [],
   "source": [
    "\n",
    "# Relational Operators\n",
    "print(2 < 5)   # True\n",
    "print(1 < 3)   # True\n",
    "print(\"ABC\" == \"abc\")   # False\n",
    "\n",
    "# Logical Operators\n",
    "print(2 < 5 and 1 < 3)  # True\n",
    "print(2 < 5 or 1 > 3)   # True\n",
    "print(not(2 < 5))       # False\n"
   ]
  },
  {
   "cell_type": "markdown",
   "id": "7382e5e3",
   "metadata": {},
   "source": [
    "## 4. Comparison Operators"
   ]
  },
  {
   "cell_type": "code",
   "execution_count": null,
   "id": "c0b4cf6d",
   "metadata": {},
   "outputs": [],
   "source": [
    "\n",
    "x = 5\n",
    "y = 10\n",
    "print(x == y)  # False\n",
    "print(x != y)  # True\n",
    "print(x > y)   # False\n",
    "print(x < y)   # True\n",
    "print(x >= y)  # False\n",
    "print(x <= y)  # True\n"
   ]
  },
  {
   "cell_type": "markdown",
   "id": "925227bc",
   "metadata": {},
   "source": [
    "## 5. Conditional Statements"
   ]
  },
  {
   "cell_type": "code",
   "execution_count": null,
   "id": "8cbc46b2",
   "metadata": {},
   "outputs": [],
   "source": [
    "\n",
    "a = 33\n",
    "b = 200\n",
    "if b > a:\n",
    "    print(\"b is greater than a\")\n",
    "else:\n",
    "    print(\"a is greater than b\")\n"
   ]
  },
  {
   "cell_type": "markdown",
   "id": "c64533c2",
   "metadata": {},
   "source": [
    "## 6. Check Divisibility by 3 and 5"
   ]
  },
  {
   "cell_type": "code",
   "execution_count": null,
   "id": "6671ba1a",
   "metadata": {},
   "outputs": [],
   "source": [
    "\n",
    "a = int(input(\"Enter a number: \"))\n",
    "\n",
    "if a % 5 == 0 and a % 3 == 0:\n",
    "    print(\"Divisible by 3 & 5\")\n",
    "else:\n",
    "    print(\"Not Divisible by 3 & 5\")\n"
   ]
  },
  {
   "cell_type": "markdown",
   "id": "79485b1b",
   "metadata": {},
   "source": [
    "## 7. Grading System"
   ]
  },
  {
   "cell_type": "code",
   "execution_count": null,
   "id": "cdc0e676",
   "metadata": {},
   "outputs": [],
   "source": [
    "\n",
    "score = int(input(\"Enter score: \"))\n",
    "if score < 35:\n",
    "    print(\"Poor student\")\n",
    "elif score >= 35 and score < 70:\n",
    "    print(\"Average student\")\n",
    "elif score >= 70 and score <= 100:\n",
    "    print(\"Good student\")\n",
    "else:\n",
    "    print(\"Invalid score\")\n"
   ]
  },
  {
   "cell_type": "markdown",
   "id": "ca2a3d34",
   "metadata": {},
   "source": [
    "## 8. Factorial of a Number"
   ]
  },
  {
   "cell_type": "code",
   "execution_count": null,
   "id": "b223acf5",
   "metadata": {},
   "outputs": [],
   "source": [
    "\n",
    "n = int(input(\"Enter num: \"))\n",
    "\n",
    "fact = 1\n",
    "for i in range(1, n+1):\n",
    "    fact *= i\n",
    "\n",
    "print(\"Factorial of\", n, \"is:\", fact)\n"
   ]
  },
  {
   "cell_type": "markdown",
   "id": "dd792284",
   "metadata": {},
   "source": [
    "## 9. While Loop Example"
   ]
  },
  {
   "cell_type": "code",
   "execution_count": null,
   "id": "66b788ba",
   "metadata": {},
   "outputs": [],
   "source": [
    "\n",
    "a = int(input(\"Enter number: \"))\n",
    "counter = 0\n",
    "while counter < 3:\n",
    "    a += 1\n",
    "    print(a)\n",
    "    counter += 1\n"
   ]
  },
  {
   "cell_type": "markdown",
   "id": "8710e0af",
   "metadata": {},
   "source": [
    "## 10. For Loop with Continue and Pass"
   ]
  },
  {
   "cell_type": "code",
   "execution_count": null,
   "id": "c2a1dae0",
   "metadata": {},
   "outputs": [],
   "source": [
    "\n",
    "for i in range(5):\n",
    "    if i == 2:\n",
    "        continue   # skip when i == 2\n",
    "    if i == 4:\n",
    "        pass       # placeholder\n",
    "    print(i)\n"
   ]
  },
  {
   "cell_type": "markdown",
   "id": "757c0644",
   "metadata": {},
   "source": [
    "## 11. String Operations"
   ]
  },
  {
   "cell_type": "code",
   "execution_count": null,
   "id": "fdbc1803",
   "metadata": {},
   "outputs": [],
   "source": [
    "\n",
    "print(\"abc\" + \"xyz\")      # Concatenation\n",
    "print(\"abc\" * 3)          # Repetition\n",
    "user = input(\"Enter name: \")\n",
    "print(\"Length of name:\", len(user))\n"
   ]
  },
  {
   "cell_type": "markdown",
   "id": "c1a2f2e0",
   "metadata": {},
   "source": [
    "## 12. String Methods"
   ]
  },
  {
   "cell_type": "code",
   "execution_count": null,
   "id": "3bc517fd",
   "metadata": {},
   "outputs": [],
   "source": [
    "\n",
    "print(\"Rahul\".isalpha())       # True\n",
    "print(\"Rahul123\".isalnum())    # True\n",
    "print(\"ram2355@\".isalnum())    # False\n",
    "print(\"HELLO\".isupper())       # True\n",
    "print(\"the planet is big\".capitalize())\n"
   ]
  },
  {
   "cell_type": "markdown",
   "id": "7b55242f",
   "metadata": {},
   "source": [
    "## 13. Count Vowels in a String"
   ]
  },
  {
   "cell_type": "code",
   "execution_count": null,
   "id": "61b494d4",
   "metadata": {},
   "outputs": [],
   "source": [
    "\n",
    "s = input(\"Enter a string: \")\n",
    "\n",
    "count = 0\n",
    "vowels = \"aeiouAEIOU\"\n",
    "\n",
    "for ch in s:\n",
    "    if ch in vowels:\n",
    "        count += 1\n",
    "\n",
    "print(\"Number of vowels:\", count)\n"
   ]
  },
  {
   "cell_type": "markdown",
   "id": "a98a5cfb",
   "metadata": {},
   "source": [
    "## 14. Perimeter of Triangle"
   ]
  },
  {
   "cell_type": "code",
   "execution_count": null,
   "id": "6a98a369",
   "metadata": {},
   "outputs": [],
   "source": [
    "\n",
    "a = int(input(\"Enter the length of side a: \"))\n",
    "b = int(input(\"Enter the length of side b: \"))\n",
    "c = int(input(\"Enter the length of side c: \"))\n",
    "perimeter = a + b + c\n",
    "\n",
    "print(\"The perimeter of the triangle is:\", perimeter)\n"
   ]
  },
  {
   "cell_type": "markdown",
   "id": "c5727ab4",
   "metadata": {},
   "source": [
    "## 15. Pattern Printing - Square Numbers"
   ]
  },
  {
   "cell_type": "code",
   "execution_count": null,
   "id": "3f4aa852",
   "metadata": {},
   "outputs": [],
   "source": [
    "\n",
    "n = int(input(\"Enter a number: \"))\n",
    "start = 1\n",
    "for i in range(n):\n",
    "    for j in range(n):\n",
    "        print(start, end=\" \")\n",
    "        start += 1\n",
    "    print()\n"
   ]
  },
  {
   "cell_type": "markdown",
   "id": "4ec9f100",
   "metadata": {},
   "source": [
    "## 16. Pattern Printing - Triangles"
   ]
  },
  {
   "cell_type": "code",
   "execution_count": null,
   "id": "7fa19fc1",
   "metadata": {},
   "outputs": [],
   "source": [
    "\n",
    "n = int(input(\"Enter n: \"))\n",
    "\n",
    "num = 1\n",
    "\n",
    "print(\"First Triangle:\")\n",
    "for i in range(1, n+1):\n",
    "    for j in range(i):\n",
    "        print(num, end=\" \")\n",
    "        num += 1\n",
    "    print()\n",
    "\n",
    "print(\"Second Triangle:\")\n",
    "for i in range(n, 0, -1):\n",
    "    for j in range(i):\n",
    "        print(num, end=\" \")\n",
    "        num += 1\n",
    "    print()\n"
   ]
  },
  {
   "cell_type": "markdown",
   "id": "98d562be",
   "metadata": {},
   "source": [
    "## 17. Function Example - Square of a Number"
   ]
  },
  {
   "cell_type": "code",
   "execution_count": null,
   "id": "65406197",
   "metadata": {},
   "outputs": [],
   "source": [
    "\n",
    "n = int(input(\"Enter a number: \"))\n",
    "\n",
    "def square(n):\n",
    "    return n * n\n",
    "\n",
    "print(\"The square of the number is:\", square(n))\n"
   ]
  },
  {
   "cell_type": "markdown",
   "id": "30b0b5c6",
   "metadata": {},
   "source": [
    "## 18. Example - Cricket Win or Lose"
   ]
  },
  {
   "cell_type": "code",
   "execution_count": null,
   "id": "f81edcd2",
   "metadata": {},
   "outputs": [],
   "source": [
    "\n",
    "india = input(\"Enter your win or lose: \")\n",
    "\n",
    "if india == \"win\":\n",
    "    print(\"Trophy is ours\")\n",
    "else:\n",
    "    print(\"Better luck next time\")\n"
   ]
  }
 ],
 "metadata": {
  "language_info": {
   "name": "python"
  }
 },
 "nbformat": 4,
 "nbformat_minor": 5
}
